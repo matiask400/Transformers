{
 "cells": [
  {
   "cell_type": "code",
   "execution_count": 1,
   "metadata": {},
   "outputs": [],
   "source": [
    "# !pip install --upgrade --quiet langchain-google-genai\n",
    "# !pip install --upgrade --quiet  langchain-google-genai \n",
    "# !pip install --upgrade --quiet pillow"
   ]
  },
  {
   "cell_type": "code",
   "execution_count": 2,
   "metadata": {},
   "outputs": [],
   "source": [
    "from langchain_google_genai import ChatGoogleGenerativeAI\n",
    "from langchain.prompts import ChatPromptTemplate"
   ]
  },
  {
   "cell_type": "code",
   "execution_count": 3,
   "metadata": {},
   "outputs": [],
   "source": [
    "problem_text= \"\"\"\n",
    "1,Two Sum,\"Given an array of integers `nums` and an integer `target`, return indices of the two numbers such that they add up to `target`.\n",
    "\n",
    "You may assume that each input would have exactly one solution, and you may not use the same element twice.\n",
    "\n",
    "You can return the answer in any order.\n",
    "\n",
    "\n",
    "Example 1:\n",
    "Input: nums = [2,7,11,15], target = 9\n",
    "Output: [0,1]\n",
    "Output: Because nums[0] + nums[1] == 9, we return [0, 1].\n",
    "\n",
    "Example 2:\n",
    "Input: nums = [3,2,4], target = 6\n",
    "Output: [1,2]\n",
    "\n",
    "Example 3:\n",
    "Input: nums = [3,3], target = 6\n",
    "Output: [0,1]\n",
    "\n",
    "Constraints:\n",
    "`2 <= nums.length <= 103`\n",
    "`-109 <= nums[i] <= 109`\n",
    "`-109 <= target <= 109`\n",
    "Only one valid answer exists.\",0,Easy,/articles/two-sum,46.7,100.0,https://leetcode.com/problems/two-sum,999,4.1M,8.7M,\"Amazon,Google,Apple,Adobe,Microsoft,Bloomberg,Facebook,Oracle,Uber,Expedia,Twitter,Nagarro,SAP,Yahoo,Cisco,Qualcomm,tcs,Goldman Sachs,Yandex,ServiceNow\",\"Array,Hash Table\",20217,712,97,1,\"[3Sum, /problems/3sum/, Medium], [4Sum, /problems/4sum/, Medium], [Two Sum II - Input array is sorted, /problems/two-sum-ii-input-array-is-sorted/, Easy], [Two Sum III - Data structure design, /problems/two-sum-iii-data-structure-design/, Easy], [Subarray Sum Equals K, /problems/subarray-sum-equals-k/, Medium], [Two Sum IV - Input is a BST, /problems/two-sum-iv-input-is-a-bst/, Easy], [Two Sum Less Than K, /problems/two-sum-less-than-k/, Easy], [Max Number of K-Sum Pairs, /problems/max-number-of-k-sum-pairs/, Medium], [Count Good Meals, /problems/count-good-meals/, Medium]\"\n",
    "\n",
    "\"\"\""
   ]
  },
  {
   "cell_type": "code",
   "execution_count": 4,
   "metadata": {},
   "outputs": [],
   "source": [
    "llm_model = \"gemini-1.5-pro\"\n",
    "google_api_key = \"Your_api_key\"\n",
    "\n",
    "chat = ChatGoogleGenerativeAI(temperature=0.0, google_api_key=google_api_key, model=llm_model)"
   ]
  },
  {
   "cell_type": "code",
   "execution_count": 5,
   "metadata": {},
   "outputs": [],
   "source": [
    "from langchain.output_parsers import ResponseSchema\n",
    "from langchain.output_parsers import StructuredOutputParser"
   ]
  },
  {
   "cell_type": "code",
   "execution_count": 49,
   "metadata": {},
   "outputs": [],
   "source": [
    "problem_solution_schema = ResponseSchema(name=\"problem_solution\",\n",
    "                                        description=\"Code a solution in python for these problem \\\n",
    "                                        Make it to ask for inputs data examples \\\n",
    "                                        Answer with the solution, if you dont know the solution output NONE. \\\n",
    "                                        Make it to execute with the inputs examples and check \\\n",
    "                                        if returns the output, in case that yes it should say True, else False. \\\n",
    "                                        \")\n",
    "input_1_schema = ResponseSchema(name=\"input_1\",\n",
    "                                description=\"Extract the input 1 example \\\n",
    "                                and output them as they come for a input in a python program, dont \\\n",
    "                                answer If this information is not found. \\\n",
    "                                \")\n",
    "output_1_schema = ResponseSchema(name=\"output_1\",\n",
    "                                description=\"Extract the output 1 example \\\n",
    "                                and output them as they come to compere the output in a python program \\\n",
    "                                result, dont answer If this information is not found. \\\n",
    "                                \")\n",
    "input_2_schema = ResponseSchema(name=\"input_2\",\n",
    "                                description=\"Extract the input 2 example \\\n",
    "                                and output them as they come for a input in a python program, dont \\\n",
    "                                answer If this information is not found. \\\n",
    "                                \")\n",
    "output_2_schema = ResponseSchema(name=\"output_2\",\n",
    "                                description=\"Extract the output 2 example \\\n",
    "                                and output them as they come to compere the output in a python program \\\n",
    "                                result, dont answer If this information is not found. \\\n",
    "                                \")\n",
    "input_3_schema = ResponseSchema(name=\"input_3\",\n",
    "                                description=\"Extract the input 3 example \\\n",
    "                                and output them as they come for a input in a python program, dont \\\n",
    "                                answer If this information is not found. \\\n",
    "                                \")\n",
    "output_3_schema = ResponseSchema(name=\"output_3\",\n",
    "                                description=\"\"\"Extract the output 3 example \\\n",
    "                                and output them as they come to compere the output in a python program \\\n",
    "                                result, dont answer If this information is not found. \\\n",
    "                                \"\"\")\n",
    "\n",
    "response_schemas = [\n",
    "    problem_solution_schema,\n",
    "    input_1_schema,\n",
    "    output_1_schema,\n",
    "    input_2_schema,\n",
    "    output_2_schema,\n",
    "    input_3_schema,\n",
    "    output_3_schema\n",
    "]"
   ]
  },
  {
   "cell_type": "code",
   "execution_count": 50,
   "metadata": {},
   "outputs": [],
   "source": [
    "output_parser = StructuredOutputParser.from_response_schemas(response_schemas)"
   ]
  },
  {
   "cell_type": "code",
   "execution_count": 51,
   "metadata": {},
   "outputs": [],
   "source": [
    "format_instructions = output_parser.get_format_instructions()"
   ]
  },
  {
   "cell_type": "code",
   "execution_count": 52,
   "metadata": {},
   "outputs": [
    {
     "name": "stdout",
     "output_type": "stream",
     "text": [
      "The output should be a markdown code snippet formatted in the following schema, including the leading and trailing \"```json\" and \"```\":\n",
      "\n",
      "```json\n",
      "{\n",
      "\t\"problem_solution\": string  // Code a solution in python for these problem                                         Make it to ask for inputs data examples                                         Answer with the solution, if you dont know the solution output NONE.                                         Make it to execute with the inputs examples and check                                         if returns the output, in case that yes it should say True, else False.                                         \n",
      "\t\"input_1\": string  // Extract the input 1 example                                 and output them as they come for a input in a python program, dont                                 answer If this information is not found.                                 \n",
      "\t\"output_1\": string  // Extract the output 1 example                                 and output them as they come to compere the output in a python program                                 result, dont answer If this information is not found.                                 \n",
      "\t\"input_2\": string  // Extract the input 2 example                                 and output them as they come for a input in a python program, dont                                 answer If this information is not found.                                 \n",
      "\t\"output_2\": string  // Extract the output 2 example                                 and output them as they come to compere the output in a python program                                 result, dont answer If this information is not found.                                 \n",
      "\t\"input_3\": string  // Extract the input 3 example                                 and output them as they come for a input in a python program, dont                                 answer If this information is not found.                                 \n",
      "\t\"output_3\": string  // Extract the output 3 example                                 and output them as they come to compere the output in a python program                                 result, dont answer If this information is not found.                                 \n",
      "}\n",
      "```\n"
     ]
    }
   ],
   "source": [
    "print(format_instructions)"
   ]
  },
  {
   "cell_type": "code",
   "execution_count": 53,
   "metadata": {},
   "outputs": [],
   "source": [
    "\n",
    "solution_template = \"\"\"\\\n",
    "For the following text, extract the following information:\n",
    "\n",
    "Input 1: Extract the input 1 example \\\n",
    "and output them as they come for a input in a python program, dont answer If this information is not found.\n",
    "\n",
    "Output 1: Extract the output 1 example \\\n",
    "and output them as they come to compere the output in a python program result, dont answer If this information is not found.\n",
    "\n",
    "Input 2: Extract the input 2 example \\\n",
    "and output them as they come for a input in a python program, dont answer If this information is not found.\n",
    "\n",
    "Output 2: Extract the output 2 example \\\n",
    "and output them as they come to compere the output in a python program result, dont answer If this information is not found.\n",
    "\n",
    "Input 3: Extract the input 3 example \\\n",
    "and output them as they come for a input in a python program, dont answer If this information is not found.\n",
    "\n",
    "Output 3: Extract the output 3 example \\\n",
    "and output them as they come to compere the output in a python program result, dont answer If this information is not found.\n",
    "\n",
    "Problem solution: Code a solution in python for these problem \\\n",
    "Answer with the solution, if you dont know the solution output NONE. Make it to execute with the inputs examples and check \\\n",
    "if returns the output, in case that yes it should say True, else False.\n",
    "Format the output as JSON with the following keys:\n",
    "Problem solution\n",
    "Input 1\n",
    "Output 1\n",
    "Input 2\n",
    "Output 2\n",
    "Input 3\n",
    "Output 3\n",
    "\n",
    "text: {text}\n",
    "\n",
    "{format_instructions}\n",
    "\"\"\"\n",
    "\n",
    "\n",
    "prompt = ChatPromptTemplate.from_template(template=solution_template)\n",
    "\n",
    "messages = prompt.format_messages(text=problem_text, \n",
    "                                format_instructions=format_instructions)"
   ]
  },
  {
   "cell_type": "code",
   "execution_count": 54,
   "metadata": {},
   "outputs": [
    {
     "name": "stdout",
     "output_type": "stream",
     "text": [
      "For the following text, extract the following information:\n",
      "\n",
      "Input 1: Extract the input 1 example and output them as they come for a input in a python program, dont answer If this information is not found.\n",
      "\n",
      "Output 1: Extract the output 1 example and output them as they come to compere the output in a python program result, dont answer If this information is not found.\n",
      "\n",
      "Input 2: Extract the input 2 example and output them as they come for a input in a python program, dont answer If this information is not found.\n",
      "\n",
      "Output 2: Extract the output 2 example and output them as they come to compere the output in a python program result, dont answer If this information is not found.\n",
      "\n",
      "Input 3: Extract the input 3 example and output them as they come for a input in a python program, dont answer If this information is not found.\n",
      "\n",
      "Output 3: Extract the output 3 example and output them as they come to compere the output in a python program result, dont answer If this information is not found.\n",
      "\n",
      "Problem solution: Code a solution in python for these problem Answer with the solution, if you dont know the solution output NONE. Make it to execute with the inputs examples and check if returns the output, in case that yes it should say True, else False.\n",
      "Format the output as JSON with the following keys:\n",
      "Problem solution\n",
      "Input 1\n",
      "Output 1\n",
      "Input 2\n",
      "Output 2\n",
      "Input 3\n",
      "Output 3\n",
      "\n",
      "text: \n",
      "1,Two Sum,\"Given an array of integers `nums` and an integer `target`, return indices of the two numbers such that they add up to `target`.\n",
      "\n",
      "You may assume that each input would have exactly one solution, and you may not use the same element twice.\n",
      "\n",
      "You can return the answer in any order.\n",
      "\n",
      "\n",
      "Example 1:\n",
      "Input: nums = [2,7,11,15], target = 9\n",
      "Output: [0,1]\n",
      "Output: Because nums[0] + nums[1] == 9, we return [0, 1].\n",
      "\n",
      "Example 2:\n",
      "Input: nums = [3,2,4], target = 6\n",
      "Output: [1,2]\n",
      "\n",
      "Example 3:\n",
      "Input: nums = [3,3], target = 6\n",
      "Output: [0,1]\n",
      "\n",
      "Constraints:\n",
      "`2 <= nums.length <= 103`\n",
      "`-109 <= nums[i] <= 109`\n",
      "`-109 <= target <= 109`\n",
      "Only one valid answer exists.\",0,Easy,/articles/two-sum,46.7,100.0,https://leetcode.com/problems/two-sum,999,4.1M,8.7M,\"Amazon,Google,Apple,Adobe,Microsoft,Bloomberg,Facebook,Oracle,Uber,Expedia,Twitter,Nagarro,SAP,Yahoo,Cisco,Qualcomm,tcs,Goldman Sachs,Yandex,ServiceNow\",\"Array,Hash Table\",20217,712,97,1,\"[3Sum, /problems/3sum/, Medium], [4Sum, /problems/4sum/, Medium], [Two Sum II - Input array is sorted, /problems/two-sum-ii-input-array-is-sorted/, Easy], [Two Sum III - Data structure design, /problems/two-sum-iii-data-structure-design/, Easy], [Subarray Sum Equals K, /problems/subarray-sum-equals-k/, Medium], [Two Sum IV - Input is a BST, /problems/two-sum-iv-input-is-a-bst/, Easy], [Two Sum Less Than K, /problems/two-sum-less-than-k/, Easy], [Max Number of K-Sum Pairs, /problems/max-number-of-k-sum-pairs/, Medium], [Count Good Meals, /problems/count-good-meals/, Medium]\"\n",
      "\n",
      "\n",
      "\n",
      "The output should be a markdown code snippet formatted in the following schema, including the leading and trailing \"```json\" and \"```\":\n",
      "\n",
      "```json\n",
      "{\n",
      "\t\"problem_solution\": string  // Code a solution in python for these problem                                         Make it to ask for inputs data examples                                         Answer with the solution, if you dont know the solution output NONE.                                         Make it to execute with the inputs examples and check                                         if returns the output, in case that yes it should say True, else False.                                         \n",
      "\t\"input_1\": string  // Extract the input 1 example                                 and output them as they come for a input in a python program, dont                                 answer If this information is not found.                                 \n",
      "\t\"output_1\": string  // Extract the output 1 example                                 and output them as they come to compere the output in a python program                                 result, dont answer If this information is not found.                                 \n",
      "\t\"input_2\": string  // Extract the input 2 example                                 and output them as they come for a input in a python program, dont                                 answer If this information is not found.                                 \n",
      "\t\"output_2\": string  // Extract the output 2 example                                 and output them as they come to compere the output in a python program                                 result, dont answer If this information is not found.                                 \n",
      "\t\"input_3\": string  // Extract the input 3 example                                 and output them as they come for a input in a python program, dont                                 answer If this information is not found.                                 \n",
      "\t\"output_3\": string  // Extract the output 3 example                                 and output them as they come to compere the output in a python program                                 result, dont answer If this information is not found.                                 \n",
      "}\n",
      "```\n",
      "\n"
     ]
    }
   ],
   "source": [
    "print(messages[0].content)"
   ]
  },
  {
   "cell_type": "code",
   "execution_count": 55,
   "metadata": {},
   "outputs": [],
   "source": [
    "response = chat(messages)"
   ]
  },
  {
   "cell_type": "code",
   "execution_count": 56,
   "metadata": {},
   "outputs": [
    {
     "name": "stdout",
     "output_type": "stream",
     "text": [
      "```json\n",
      "{\n",
      "\t\"problem_solution\": \"```python\\ndef two_sum(nums, target):\\n    seen = {}\\n    for i, num in enumerate(nums):\\n        complement = target - num\\n        if complement in seen:\\n            return [seen[complement], i]\\n        seen[num] = i\\n\\n\\n# Test cases\\ninput1 = [2, 7, 11, 15]\\ntarget1 = 9\\noutput1 = [0, 1]\\n\\ninput2 = [3, 2, 4]\\ntarget2 = 6\\noutput2 = [1, 2]\\n\\ninput3 = [3, 3]\\ntarget3 = 6\\noutput3 = [0, 1]\\n\\nprint(f\\\"Test 1: {two_sum(input1, target1) == output1}\\\")\\nprint(f\\\"Test 2: {two_sum(input2, target2) == output2}\\\")\\nprint(f\\\"Test 3: {two_sum(input3, target3) == output3}\\\")\\n```\",\n",
      "\t\"input_1\": \"nums = [2,7,11,15], target = 9\",\n",
      "\t\"output_1\": \"[0,1]\",\n",
      "\t\"input_2\": \"nums = [3,2,4], target = 6\",\n",
      "\t\"output_2\": \"[1,2]\",\n",
      "\t\"input_3\": \"nums = [3,3], target = 6\",\n",
      "\t\"output_3\": \"[0,1]\"\n",
      "}\n",
      "```\n"
     ]
    }
   ],
   "source": [
    "print(response.content)"
   ]
  },
  {
   "cell_type": "code",
   "execution_count": 57,
   "metadata": {},
   "outputs": [],
   "source": [
    "output_dict = output_parser.parse(response.content)\n",
    "data = output_dict"
   ]
  },
  {
   "cell_type": "code",
   "execution_count": 58,
   "metadata": {},
   "outputs": [],
   "source": [
    "python_code = output_dict.get(\"problem_solution\")\n",
    "\n",
    "# Procesar el texto para omitir la primera y última línea\n",
    "code_lines = python_code.split('\\n')[1:-1]\n",
    "processed_code = '\\n'.join(code_lines)"
   ]
  },
  {
   "cell_type": "code",
   "execution_count": 59,
   "metadata": {},
   "outputs": [
    {
     "name": "stdout",
     "output_type": "stream",
     "text": [
      "Código Python guardado en output_filename.py exitosamente.\n"
     ]
    }
   ],
   "source": [
    "# Nombre del archivo .py\n",
    "output_filename = \"output_filename.py\"\n",
    "\n",
    "# Escribir el código en el archivo .py\n",
    "with open(output_filename, mode='w', newline='', encoding='utf-8') as pyfile:\n",
    "    pyfile.write(processed_code)\n",
    "\n",
    "print(f\"Código Python guardado en {output_filename} exitosamente.\")"
   ]
  },
  {
   "cell_type": "code",
   "execution_count": 69,
   "metadata": {},
   "outputs": [
    {
     "name": "stdout",
     "output_type": "stream",
     "text": [
      "Resultado True: 3\n"
     ]
    }
   ],
   "source": [
    "import subprocess\n",
    "\n",
    "# Definición del script que queremos ejecutar\n",
    "script_path = output_filename\n",
    "\n",
    "# Ejecutar el script en segundo plano\n",
    "proceso = subprocess.Popen([\"python\", script_path], stdout=subprocess.PIPE)\n",
    "\n",
    "# Leer la salida del proceso\n",
    "salida, _ = proceso.communicate()\n",
    "\n",
    "# Decodificar la salida y verificar\n",
    "resultado = salida.decode().strip()  # Decodificar y eliminar espacios en blanco adicionales\n",
    "\n",
    "# Subcadena que queremos verificar\n",
    "subcadena_true = \"True\"\n",
    "subcadena_false = \"False\"\n",
    "\n",
    "# Contar las ocurrencias de la subcadena en la cadena\n",
    "ocurrencias_true = resultado.count(subcadena_true)\n",
    "ocurrencias_false = resultado.count(subcadena_false)\n",
    "\n",
    "\n",
    "if \"True\" in resultado:\n",
    "    print(\"Resultado True:\", ocurrencias_true)\n",
    "elif \"False\" in resultado:\n",
    "    print(\"Resultado False:\", ocurrencias_false)\n",
    "else:\n",
    "    print(\"Resultado no contemplado:\" + resultado)"
   ]
  },
  {
   "cell_type": "code",
   "execution_count": 75,
   "metadata": {},
   "outputs": [
    {
     "name": "stdout",
     "output_type": "stream",
     "text": [
      "Archivo CSV 'resultados.csv' creado exitosamente.\n"
     ]
    }
   ],
   "source": [
    "import csv\n",
    "\n",
    "# Nombre del archivo CSV\n",
    "nombre_archivo = \"resultados.csv\"\n",
    "\n",
    "# Encabezados de las columnas\n",
    "encabezados = [\"ID\", \"codigo\", \"resultado\", \"cantidad_true\", \"cantidad_false\"]\n",
    "\n",
    "# Datos de ejemplo (ID, código, resultado, cantidad de True, cantidad de False)\n",
    "datos = [\n",
    "    {\"ID\": 1, \"codigo\": processed_code, \"resultado\": resultado, \"cantidad_true\": ocurrencias_true, \"cantidad_false\": ocurrencias_false},\n",
    "]\n",
    "\n",
    "# Escribir datos en el archivo CSV\n",
    "with open(nombre_archivo, mode='w', newline='') as archivo_csv:\n",
    "    escritor_csv = csv.DictWriter(archivo_csv, fieldnames=encabezados)\n",
    "\n",
    "    # Escribir encabezados\n",
    "    escritor_csv.writeheader()\n",
    "\n",
    "    # Escribir filas de datos (usando writerows para escribir una lista de diccionarios)\n",
    "    escritor_csv.writerows(datos)\n",
    "\n",
    "print(f\"Archivo CSV '{nombre_archivo}' creado exitosamente.\")"
   ]
  }
 ],
 "metadata": {
  "kernelspec": {
   "display_name": "Python 3",
   "language": "python",
   "name": "python3"
  },
  "language_info": {
   "codemirror_mode": {
    "name": "ipython",
    "version": 3
   },
   "file_extension": ".py",
   "mimetype": "text/x-python",
   "name": "python",
   "nbconvert_exporter": "python",
   "pygments_lexer": "ipython3",
   "version": "3.11.7"
  }
 },
 "nbformat": 4,
 "nbformat_minor": 2
}
